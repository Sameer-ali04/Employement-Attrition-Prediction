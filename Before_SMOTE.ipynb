{
 "cells": [
  {
   "cell_type": "markdown",
   "id": "e1361bc3-ef72-4da6-91ee-fd1c291064a9",
   "metadata": {},
   "source": [
    "![Image One](One.png)\n"
   ]
  },
  {
   "cell_type": "markdown",
   "id": "f400d7ee-5841-40ad-a474-486a83ab64e0",
   "metadata": {},
   "source": [
    "**_The key to success in any organization is attracting and retaining top talent. This analysis is useful for an HR Analyst as its task is to determine which factors keep employees at the company and which prompt others to leave. By knowing these factors the HR analyst can change to prevent the loss of good people._**"
   ]
  },
  {
   "cell_type": "markdown",
   "id": "80870c3e-e79f-4af3-8703-f5f4df3331d7",
   "metadata": {},
   "source": [
    "<div style=\"text-align: center; background-color: #856ff8; padding: 10px;\">\n",
    "    <h2 style=\"font-weight: bold;\">OUTLINE</h2>\n",
    "</div>"
   ]
  },
  {
   "cell_type": "markdown",
   "id": "284ac2de-156c-43ce-aa43-58737e4dbf0e",
   "metadata": {},
   "source": [
    "- Importing Various Modules\n",
    "- Loading Dataset\n",
    "- Data Wrangling\n",
    "    - Computing the size of DataFrame\n",
    "    - Enlist the Column Labels\n",
    "    - Clean column names by replacing non-alphanumeric characters with underscores\n",
    "    - Encode the target variable 'Attrition' (Yes/No) into numerical values (1/0)\n",
    "    - Separate the features (X) and the target variable (y) and Encode categorical features into numerical values\n",
    "    - Split the data into training (75%) and testing (25%) sets and scale featues\n",
    "    - Plotting the accuracies"
   ]
  },
  {
   "cell_type": "markdown",
   "id": "b8d30ff8-61e0-4244-aac1-f74906519278",
   "metadata": {},
   "source": [
    "<div style=\"text-align: center; background-color: yellow; padding: 10px;\">\n",
    "    <h2 style=\"font-weight: bold;\">IMPORTING VARIOUS MODULES</h2>\n",
    "</div>"
   ]
  },
  {
   "cell_type": "code",
   "execution_count": 11,
   "id": "ebb20361-75ec-4e83-9d14-5111eef2b0ed",
   "metadata": {},
   "outputs": [],
   "source": [
    "import pandas as pd\n",
    "from sklearn.model_selection import train_test_split\n",
    "from sklearn.preprocessing import LabelEncoder, StandardScaler\n",
    "from sklearn.metrics import accuracy_score\n",
    "from xgboost import XGBClassifier\n",
    "from catboost import CatBoostClassifier\n",
    "from sklearn.ensemble import RandomForestClassifier\n",
    "import matplotlib.pyplot as plt"
   ]
  },
  {
   "cell_type": "markdown",
   "id": "528fc921-f4a4-4bd9-b682-1fecd31f57fd",
   "metadata": {},
   "source": [
    "<div style=\"text-align: center; background-color: yellow; padding: 10px;\">\n",
    "    <h2 style=\"font-weight: bold;\">LOADING DATASET</h2>\n",
    "</div>"
   ]
  },
  {
   "cell_type": "code",
   "execution_count": 12,
   "id": "3cfd8104-eeb5-4c83-9492-64ea0ae89c15",
   "metadata": {},
   "outputs": [],
   "source": [
    "# Load the data\n",
    "df = pd.read_csv('IBM-HR-Analytics-Employee-Attrition-and-Performance.csv')"
   ]
  },
  {
   "cell_type": "markdown",
   "id": "9bc28a89-f85c-4762-8ca1-caade855d24e",
   "metadata": {},
   "source": [
    "<div style=\"text-align: center; background-color: yellow; padding: 10px;\">\n",
    "    <h2 style=\"font-weight: bold;\">DATA WRANGLING</h2>\n",
    "</div>"
   ]
  },
  {
   "cell_type": "markdown",
   "id": "5bb0160e-e216-42c6-9efe-a1be6ce2e617",
   "metadata": {},
   "source": [
    "## <span style='color:blue'> 1] Computing size of dataset </span>"
   ]
  },
  {
   "cell_type": "code",
   "execution_count": 13,
   "id": "cd3904cc-66ed-437f-8c97-19731d4d7d34",
   "metadata": {},
   "outputs": [
    {
     "name": "stdout",
     "output_type": "stream",
     "text": [
      "The shape of data frame: (1470, 35)\n",
      "Number of Rows in the dataframe: 1470\n",
      "Number of Columns in the dataframe: 35\n"
     ]
    }
   ],
   "source": [
    "# Print the shape of the DataFrame\n",
    "print(\"The shape of data frame:\", df.shape)\n",
    "# Print the length (number of rows) of the DataFrame\n",
    "print(\"Number of Rows in the dataframe:\", len(df))\n",
    "# Print the number of columns in the DataFrame\n",
    "print(\"Number of Columns in the dataframe:\", len(df.columns))"
   ]
  },
  {
   "cell_type": "markdown",
   "id": "af2c46f7-4cfe-44ba-824f-571cd13b1d21",
   "metadata": {},
   "source": [
    "## <span style='color:blue'> 2] Enlist columns of dataset </span>"
   ]
  },
  {
   "cell_type": "code",
   "execution_count": 14,
   "id": "427b62df-c871-4e27-bd22-a683b3052c3d",
   "metadata": {},
   "outputs": [
    {
     "name": "stdout",
     "output_type": "stream",
     "text": [
      "Column labels in the dataset in column order:\n",
      "Age\n",
      "Attrition\n",
      "BusinessTravel\n",
      "DailyRate\n",
      "Department\n",
      "DistanceFromHome\n",
      "Education\n",
      "EducationField\n",
      "EmployeeCount\n",
      "EmployeeNumber\n",
      "EnvironmentSatisfaction\n",
      "Gender\n",
      "HourlyRate\n",
      "JobInvolvement\n",
      "JobLevel\n",
      "JobRole\n",
      "JobSatisfaction\n",
      "MaritalStatus\n",
      "MonthlyIncome\n",
      "MonthlyRate\n",
      "NumCompaniesWorked\n",
      "Over18\n",
      "OverTime\n",
      "PercentSalaryHike\n",
      "PerformanceRating\n",
      "RelationshipSatisfaction\n",
      "StandardHours\n",
      "StockOptionLevel\n",
      "TotalWorkingYears\n",
      "TrainingTimesLastYear\n",
      "WorkLifeBalance\n",
      "YearsAtCompany\n",
      "YearsInCurrentRole\n",
      "YearsSinceLastPromotion\n",
      "YearsWithCurrManager\n"
     ]
    }
   ],
   "source": [
    "print(\"Column labels in the dataset in column order:\")\n",
    "for column in df.columns:\n",
    "    print(column)"
   ]
  },
  {
   "cell_type": "markdown",
   "id": "f69e451b-422a-43b3-ac79-1fe8ed8df7c7",
   "metadata": {},
   "source": [
    "## <span style='color:blue'> 3] Clean column names by replacing non-alphanumeric characters with underscores </span>"
   ]
  },
  {
   "cell_type": "code",
   "execution_count": 15,
   "id": "898baaaf-ffa0-4a5d-9785-78361dbc706c",
   "metadata": {},
   "outputs": [],
   "source": [
    "new_columns = []\n",
    "for col in df.columns:\n",
    "    new_col = ''\n",
    "    for char in col:\n",
    "        if char.isalnum():\n",
    "            new_col += char\n",
    "        else:\n",
    "            new_col += '_'\n",
    "    new_columns.append(new_col)\n",
    "df.columns = new_columns"
   ]
  },
  {
   "cell_type": "markdown",
   "id": "5acc5207-011c-4254-b180-a8bae1f57f9b",
   "metadata": {},
   "source": [
    "## <span style='color:blue'> 4] Encode the target variable 'Attrition' (Yes/No) into numerical values (1/0) </span>"
   ]
  },
  {
   "cell_type": "code",
   "execution_count": 16,
   "id": "aed49be4-8e22-425a-8ab6-768e118e6788",
   "metadata": {},
   "outputs": [],
   "source": [
    "label_encoder = LabelEncoder()\n",
    "df['Attrition'] = label_encoder.fit_transform(df['Attrition'])"
   ]
  },
  {
   "cell_type": "markdown",
   "id": "a2d1e4ab-bbb3-4cc0-9a3a-f45e11562917",
   "metadata": {},
   "source": [
    "## <span style='color:blue'> 5] Separate the features (X) and the target variable (y) and Encode categorical features into numerical values </span>"
   ]
  },
  {
   "cell_type": "code",
   "execution_count": 17,
   "id": "5f6d4b7f-8df1-438a-86a9-2e0906564efa",
   "metadata": {},
   "outputs": [],
   "source": [
    "X = df.drop('Attrition', axis=1)\n",
    "y = df['Attrition']\n",
    "\n",
    "cat_cols = X.select_dtypes(include=['object']).columns\n",
    "for col in cat_cols:\n",
    "    label_encoder = LabelEncoder()\n",
    "    X[col] = label_encoder.fit_transform(X[col])"
   ]
  },
  {
   "cell_type": "markdown",
   "id": "c4b11829-3a31-4d3c-9980-c69df49cec17",
   "metadata": {},
   "source": [
    "## <span style='color:blue'> 6] Split the data into training (75%) and testing (25%) sets and scale featues </span>"
   ]
  },
  {
   "cell_type": "code",
   "execution_count": 18,
   "id": "e5217c1f-be7a-47e2-b3ba-4b3c38b612ba",
   "metadata": {},
   "outputs": [],
   "source": [
    "X_train, X_test, y_train, y_test = train_test_split(X, y, test_size=0.25, random_state=42)\n",
    "\n",
    "scaler = StandardScaler()\n",
    "X_train_scaled = scaler.fit_transform(X_train)\n",
    "X_test_scaled = scaler.transform(X_test)\n"
   ]
  },
  {
   "cell_type": "markdown",
   "id": "742859c8-a2f4-45e4-abd7-89491eab7aad",
   "metadata": {},
   "source": [
    "## <span style='color:blue'> 7] Define the classifiers we want to test and train and evaluate each classifier </span>"
   ]
  },
  {
   "cell_type": "code",
   "execution_count": 19,
   "id": "044ec976-e3d7-46e8-bb95-4605d00440ec",
   "metadata": {},
   "outputs": [],
   "source": [
    "classifiers = {\n",
    "    'XGBoost': XGBClassifier(),\n",
    "    'Random Forest': RandomForestClassifier(),\n",
    "    'CatBoost': CatBoostClassifier(verbose=0)  # Set verbose to 0 to avoid too much output\n",
    "}\n",
    "\n",
    "# Dictionary to store the accuracy results of each classifier\n",
    "results = {}\n",
    "\n",
    "for clf_name, clf in classifiers.items():\n",
    "    try:\n",
    "        # Training the classifier on the scaled training data\n",
    "        clf.fit(X_train_scaled, y_train)\n",
    "        \n",
    "        # Predicting the target variable on the scaled test data\n",
    "        y_pred = clf.predict(X_test_scaled)\n",
    "        \n",
    "        # Calculating the accuracy of the classifier\n",
    "        accuracy = accuracy_score(y_test, y_pred)\n",
    "        \n",
    "        # Storing the accuracy in the results dictionary\n",
    "        results[clf_name] = accuracy\n",
    "        \n",
    "    except Exception as e:\n",
    "        #Any error that occurs during training or prediction\n",
    "        print(f'Error with {clf_name}: {e}')"
   ]
  },
  {
   "cell_type": "markdown",
   "id": "c3170e70-633f-4867-ba93-ff088db77208",
   "metadata": {},
   "source": [
    "## <span style='color:blue'> 8] Display all the accuracy results </span>"
   ]
  },
  {
   "cell_type": "code",
   "execution_count": 20,
   "id": "39b76c8a-4e1a-4cbc-876b-8d2ef55babdd",
   "metadata": {},
   "outputs": [
    {
     "ename": "SyntaxError",
     "evalue": "invalid decimal literal (28805964.py, line 5)",
     "output_type": "error",
     "traceback": [
      "\u001b[1;36m  Cell \u001b[1;32mIn[20], line 5\u001b[1;36m\u001b[0m\n\u001b[1;33m    Accuracy = {accuracy*100:.4f}')\u001b[0m\n\u001b[1;37m                              ^\u001b[0m\n\u001b[1;31mSyntaxError\u001b[0m\u001b[1;31m:\u001b[0m invalid decimal literal\n"
     ]
    }
   ],
   "source": [
    "print(\"\\nAccuracy results:\")\n",
    "for clf_name, accuracy in results.items():\n",
    "    print(f'{clf_name}'): \n",
    "    \n",
    "    Accuracy = {accuracy*100:.4f}')\n"
   ]
  },
  {
   "cell_type": "markdown",
   "id": "d3ee6c66-a3fc-4208-a811-86b4932e5007",
   "metadata": {},
   "source": [
    "## <span style='color:blue'> 9] Plotting the accuracies </span>"
   ]
  },
  {
   "cell_type": "code",
   "execution_count": null,
   "id": "aed56ad8-e016-4948-bd9b-14b0ca76f46e",
   "metadata": {},
   "outputs": [],
   "source": [
    "plt.figure(figsize=(10, 6))\n",
    "plt.bar(results.keys(), results.values(), color=['blue', 'green', 'orange'])\n",
    "plt.title('Accuracy of Different Classifiers')\n",
    "plt.xlabel('Classifiers')\n",
    "plt.ylabel('Accuracy')\n",
    "plt.ylim(0.7, 1.0)  # Set y-axis limits for better visualization\n",
    "plt.grid(False)\n",
    "plt.show()"
   ]
  },
  {
   "cell_type": "code",
   "execution_count": null,
   "id": "e06d7128-b44b-48ec-8199-b927c08633f7",
   "metadata": {},
   "outputs": [],
   "source": []
  }
 ],
 "metadata": {
  "kernelspec": {
   "display_name": "Python 3 (ipykernel)",
   "language": "python",
   "name": "python3"
  },
  "language_info": {
   "codemirror_mode": {
    "name": "ipython",
    "version": 3
   },
   "file_extension": ".py",
   "mimetype": "text/x-python",
   "name": "python",
   "nbconvert_exporter": "python",
   "pygments_lexer": "ipython3",
   "version": "3.11.7"
  }
 },
 "nbformat": 4,
 "nbformat_minor": 5
}
