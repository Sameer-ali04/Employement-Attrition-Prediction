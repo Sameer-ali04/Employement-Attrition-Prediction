{
 "cells": [
  {
   "cell_type": "markdown",
   "id": "e1361bc3-ef72-4da6-91ee-fd1c291064a9",
   "metadata": {},
   "source": [
    "![Image One](One.png)\n"
   ]
  },
  {
   "cell_type": "markdown",
   "id": "f400d7ee-5841-40ad-a474-486a83ab64e0",
   "metadata": {},
   "source": [
    "**_The key to success in any organization is attracting and retaining top talent. This analysis is useful for an HR Analyst as its task is to determine which factors keep employees at the company and which prompt others to leave. By knowing these factors the HR analyst can change to prevent the loss of good people._**"
   ]
  },
  {
   "cell_type": "markdown",
   "id": "80870c3e-e79f-4af3-8703-f5f4df3331d7",
   "metadata": {},
   "source": [
    "<div style=\"text-align: center; background-color: #856ff8; padding: 10px;\">\n",
    "    <h2 style=\"font-weight: bold;\">OUTLINE</h2>\n",
    "</div>"
   ]
  },
  {
   "cell_type": "markdown",
   "id": "284ac2de-156c-43ce-aa43-58737e4dbf0e",
   "metadata": {},
   "source": [
    "- Importing Various Modules\n",
    "- Loading Dataset\n",
    "- Train and Test\n",
    "- Define and run hyperparameter tuning for XGBoost\n",
    "- Train XGBoost with the best parameters and evaluate"
   ]
  },
  {
   "cell_type": "markdown",
   "id": "b8d30ff8-61e0-4244-aac1-f74906519278",
   "metadata": {},
   "source": [
    "<div style=\"text-align: center; background-color: yellow; padding: 10px;\">\n",
    "    <h2 style=\"font-weight: bold;\">Importing Various Modules</h2>\n",
    "</div>"
   ]
  },
  {
   "cell_type": "code",
   "execution_count": 1,
   "id": "9f3bf502-8c2e-4c44-abdd-54710be7c8b6",
   "metadata": {},
   "outputs": [],
   "source": [
    "import pandas as pd\n",
    "import numpy as np\n",
    "import re\n",
    "from sklearn.model_selection import train_test_split, GridSearchCV\n",
    "from sklearn.preprocessing import StandardScaler, LabelEncoder\n",
    "from sklearn.metrics import precision_recall_curve, roc_curve, auc, accuracy_score\n",
    "from xgboost import XGBClassifier\n",
    "import matplotlib.pyplot as plt\n",
    "from tabulate import tabulate"
   ]
  },
  {
   "cell_type": "markdown",
   "id": "000087f1-98ec-4183-a3c5-b82e73d9087e",
   "metadata": {},
   "source": [
    "<div style=\"text-align: center; background-color: yellow; padding: 10px;\">\n",
    "    <h2 style=\"font-weight: bold;\">Loading  dataset</h2>\n",
    "</div>"
   ]
  },
  {
   "cell_type": "code",
   "execution_count": 2,
   "id": "f736cbbf-7996-4910-b406-7e7170fac67f",
   "metadata": {},
   "outputs": [],
   "source": [
    "df_balanced = pd.read_csv('final_balanced.csv')"
   ]
  },
  {
   "cell_type": "markdown",
   "id": "1e63b468-135a-47a9-8b81-e9840c4e3f19",
   "metadata": {},
   "source": [
    "<div style=\"text-align: center; background-color: yellow; padding: 10px;\">\n",
    "    <h2 style=\"font-weight: bold;\">Train and Test</h2>\n",
    "</div>"
   ]
  },
  {
   "cell_type": "code",
   "execution_count": 3,
   "id": "c2d0683b-0ea9-4df2-b0ac-145ee6d2483b",
   "metadata": {},
   "outputs": [],
   "source": [
    "new_columns = [re.sub(r'\\W', '_', col) for col in df_balanced.columns]\n",
    "df_balanced.columns = new_columns\n",
    "\n",
    "X = df_balanced.drop('Attrition', axis=1)\n",
    "y = df_balanced['Attrition']\n",
    "\n",
    "# Convert target variable to numeric\n",
    "label_encoder = LabelEncoder()\n",
    "cat_cols = X.select_dtypes(include=['object']).columns\n",
    "for col in cat_cols:\n",
    "    X[col] = label_encoder.fit_transform(X[col])\n",
    "\n",
    "#This encodes 'No' to 0 and 'Yes' to 1\n",
    "y = label_encoder.fit_transform(y)\n",
    "\n",
    "X_train, X_test, y_train, y_test = train_test_split(X, y, test_size=0.25, random_state=42)\n",
    "\n",
    "scaler = StandardScaler()\n",
    "X_train_scaled = scaler.fit_transform(X_train)\n",
    "X_test_scaled = scaler.transform(X_test)\n"
   ]
  },
  {
   "cell_type": "markdown",
   "id": "18dbd8c9-ae21-4b7c-a5ea-099fa15e8926",
   "metadata": {},
   "source": [
    "<div style=\"text-align: center; background-color: yellow; padding: 10px;\">\n",
    "    <h2 style=\"font-weight: bold;\">Define and run hyperparameter tuning for XGBoost</h2>\n",
    "</div>"
   ]
  },
  {
   "cell_type": "code",
   "execution_count": 4,
   "id": "80eb0b3c-28da-44f7-b17e-5109211ee278",
   "metadata": {},
   "outputs": [
    {
     "name": "stdout",
     "output_type": "stream",
     "text": [
      "Fitting 3 folds for each of 8 candidates, totalling 24 fits\n",
      "Best parameters found:  {'learning_rate': 0.01, 'n_estimators': 2048}\n"
     ]
    }
   ],
   "source": [
    "# Define the parameter grid for XGBoost\n",
    "param_grid = {\n",
    "    'learning_rate': [.01,.001],\n",
    "    'n_estimators': [128,256,1024,2048],\n",
    "}\n",
    "\n",
    "# Initialize the XGBoost classifier\n",
    "xgb_clf = XGBClassifier()\n",
    "\n",
    "# Initialize GridSearchCV\n",
    "grid_search = GridSearchCV(estimator=xgb_clf, param_grid=param_grid,\n",
    "                           scoring='accuracy', cv=3, verbose=1, n_jobs=-1)\n",
    "\n",
    "# Fit the GridSearchCV on the training data\n",
    "grid_search.fit(X_train_scaled, y_train)\n",
    "\n",
    "# Get the best parameters\n",
    "best_params = grid_search.best_params_\n",
    "print(\"Best parameters found: \", best_params)\n"
   ]
  },
  {
   "cell_type": "markdown",
   "id": "fa47539e-08ce-408f-9e54-5d64d53de96d",
   "metadata": {},
   "source": [
    "<div style=\"text-align: center; background-color: yellow; padding: 10px;\">\n",
    "    <h2 style=\"font-weight: bold;\">Train XGBoost with the best parameters and evaluate</h2>\n",
    "</div>"
   ]
  },
  {
   "cell_type": "code",
   "execution_count": 5,
   "id": "557f839d-f1bf-435e-b6d8-244642998fd6",
   "metadata": {},
   "outputs": [
    {
     "name": "stdout",
     "output_type": "stream",
     "text": [
      "+----------+---------+\n",
      "| Metric   |   Value |\n",
      "+==========+=========+\n",
      "| Accuracy | 92.8687 |\n",
      "+----------+---------+\n",
      "| AUC      | 97.3814 |\n",
      "+----------+---------+\n"
     ]
    }
   ],
   "source": [
    "# Train XGBoost with the best parameters\n",
    "best_xgb_clf = grid_search.best_estimator_\n",
    "best_xgb_clf.fit(X_train_scaled, y_train)\n",
    "\n",
    "# Predict probabilities for positive class\n",
    "y_scores_best = best_xgb_clf.predict_proba(X_test_scaled)[:, 1]\n",
    "\n",
    "# Compute precision, recall and thresholds for precision-recall curve\n",
    "precisions_best, recalls_best, thresholds_pr_best = precision_recall_curve(y_test, y_scores_best)\n",
    "\n",
    "# Compute fpr, tpr and thresholds for ROC curve\n",
    "fpr_best, tpr_best, thresholds_roc_best = roc_curve(y_test, y_scores_best)\n",
    "\n",
    "# Compute AUC for ROC curve\n",
    "roc_auc_best = auc(fpr_best, tpr_best)\n",
    "\n",
    "# Calculate accuracy\n",
    "y_pred_best = best_xgb_clf.predict(X_test_scaled)\n",
    "accuracy_best = accuracy_score(y_test, y_pred_best)\n",
    "\n",
    "# Print the evaluation metrics in tabular format\n",
    "table = [[\"Metric\", \"Value\"],\n",
    "         [\"Accuracy\", f\"{accuracy_best*100}\"],\n",
    "         [\"AUC\", f\"{roc_auc_best*100}\"]]\n",
    "\n",
    "print(tabulate(table, headers=\"firstrow\", tablefmt=\"grid\"))"
   ]
  },
  {
   "cell_type": "code",
   "execution_count": null,
   "id": "e0ac45e1-29cf-4958-bd81-1f333321ee2a",
   "metadata": {},
   "outputs": [],
   "source": []
  }
 ],
 "metadata": {
  "kernelspec": {
   "display_name": "Python 3 (ipykernel)",
   "language": "python",
   "name": "python3"
  },
  "language_info": {
   "codemirror_mode": {
    "name": "ipython",
    "version": 3
   },
   "file_extension": ".py",
   "mimetype": "text/x-python",
   "name": "python",
   "nbconvert_exporter": "python",
   "pygments_lexer": "ipython3",
   "version": "3.11.7"
  }
 },
 "nbformat": 4,
 "nbformat_minor": 5
}
